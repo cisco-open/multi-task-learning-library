{
 "cells": [
  {
   "cell_type": "code",
   "execution_count": null,
   "metadata": {},
   "outputs": [],
   "source": [
    "# import the project directory here to find the emtl package\n",
    "import os, sys\n",
    "project_dir = os.path.abspath('..')\n",
    "\n",
    "# if the kernel wasn't restarted, the folder might still be there\n",
    "if project_dir not in sys.path: \n",
    "    sys.path.append(project_dir)"
   ]
  },
  {
   "cell_type": "code",
   "execution_count": null,
   "metadata": {},
   "outputs": [],
   "source": [
    "import torch\n",
    "from torchvision import models as M\n",
    "from torchvision import datasets as D\n",
    "from torchvision import transforms as T\n",
    "\n",
    "# EMTL Library Imports\n",
    "from emtl.tasks import SimpleTask\n",
    "from emtl.algorithms import SequentialTraining\n",
    "from emtl.trainer import Trainer\n",
    "\n",
    "device = 'cuda'"
   ]
  },
  {
   "attachments": {},
   "cell_type": "markdown",
   "metadata": {},
   "source": [
    "Type of target to use, attr, identity, bbox, or landmarks. Can also be a list to output a tuple with all specified target types. The targets represent:\n",
    "- attr (Tensor shape=(40,) dtype=int): binary (0, 1) labels for attributes\n",
    "- identity (int): label for each person (data points with the same identity are the same person)\n",
    "- bbox (Tensor shape=(4,) dtype=int): bounding box (x, y, width, height)\n",
    "- landmarks (Tensor shape=(10,) dtype=int): landmark points (lefteye_x, lefteye_y, righteye_x, righteye_y, nose_x, nose_y, leftmouth_x, leftmouth_y, rightmouth_x, rightmouth_y)"
   ]
  },
  {
   "cell_type": "code",
   "execution_count": null,
   "metadata": {},
   "outputs": [],
   "source": [
    "testset = D.CelebA(root='../data', split='valid', target_type='attr', transform=T.ToTensor(), target_transform=lambda x:x.float(), download=False)"
   ]
  },
  {
   "cell_type": "code",
   "execution_count": null,
   "metadata": {},
   "outputs": [],
   "source": [
    "len(testset)"
   ]
  },
  {
   "cell_type": "code",
   "execution_count": null,
   "metadata": {},
   "outputs": [],
   "source": [
    "class Head(torch.nn.Module):\n",
    "    def __init__(self) -> None:\n",
    "        super().__init__()\n",
    "        self.model = torch.nn.Linear(2048, 40)\n",
    "\n",
    "    def forward(self, x: torch.Tensor, **kwargs):\n",
    "        return self.model(x)"
   ]
  },
  {
   "cell_type": "code",
   "execution_count": null,
   "metadata": {},
   "outputs": [],
   "source": [
    "# make a ResNet50 backbone removing the last two layers (fc and avgpool)\n",
    "backbone = M.resnet50(replace_stride_with_dilation=[False, True, True]).to(device)\n",
    "backbone = torch.nn.Sequential(*list(backbone.children())[:-2], torch.nn.AdaptiveAvgPool2d(1), torch.nn.Flatten())\n",
    "head = Head()"
   ]
  },
  {
   "cell_type": "code",
   "execution_count": null,
   "metadata": {},
   "outputs": [],
   "source": [
    "from torch.utils.data import Subset\n",
    "\n",
    "attributes_task = SimpleTask(\n",
    "    name = 'CelebA',\n",
    "    head = head,\n",
    "    trainset = testset, \n",
    "    testset = Subset(testset, range(1000)),\n",
    "    criterion = torch.nn.BCEWithLogitsLoss(reduction='sum'),\n",
    "    optimizer_fn = torch.optim.Adam,\n",
    "    scheduler_fn = torch.optim.lr_scheduler.ReduceLROnPlateau,\n",
    "    config = '../configs/tasks/CelebA.ini'\n",
    ")"
   ]
  },
  {
   "cell_type": "code",
   "execution_count": null,
   "metadata": {},
   "outputs": [],
   "source": [
    "trainer = Trainer(\n",
    "    backbone = backbone,\n",
    "    tasks = [attributes_task],\n",
    "    algorithm = SequentialTraining(epochs=5),\n",
    "    config='../config.ini'\n",
    ")\n",
    "\n",
    "# train the model\n",
    "trainer.launch()"
   ]
  },
  {
   "cell_type": "code",
   "execution_count": null,
   "metadata": {},
   "outputs": [],
   "source": []
  }
 ],
 "metadata": {
  "kernelspec": {
   "display_name": "pytorch",
   "language": "python",
   "name": "python3"
  },
  "language_info": {
   "codemirror_mode": {
    "name": "ipython",
    "version": 3
   },
   "file_extension": ".py",
   "mimetype": "text/x-python",
   "name": "python",
   "nbconvert_exporter": "python",
   "pygments_lexer": "ipython3",
   "version": "3.9.16"
  },
  "orig_nbformat": 4,
  "vscode": {
   "interpreter": {
    "hash": "52372b67cea419ab21537734b4cd425ac02e0aecadbd8297b2ce6404efbcdf36"
   }
  }
 },
 "nbformat": 4,
 "nbformat_minor": 2
}
