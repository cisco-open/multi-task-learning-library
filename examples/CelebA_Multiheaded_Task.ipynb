{
 "cells": [
  {
   "attachments": {},
   "cell_type": "markdown",
   "metadata": {},
   "source": [
    "#### Imports"
   ]
  },
  {
   "cell_type": "code",
   "execution_count": 1,
   "metadata": {},
   "outputs": [],
   "source": [
    "# import the project directory here to find the emtl package\n",
    "import os, sys\n",
    "project_dir = os.path.abspath('..')\n",
    "\n",
    "# if the kernel wasn't restarted, the folder might still be there\n",
    "if project_dir not in sys.path: \n",
    "    sys.path.append(project_dir)"
   ]
  },
  {
   "cell_type": "code",
   "execution_count": 2,
   "metadata": {},
   "outputs": [],
   "source": [
    "import torch\n",
    "from torchvision import models as M\n",
    "from torchvision import datasets as D\n",
    "from torchvision import transforms as T\n",
    "\n",
    "# EMTL Library Imports\n",
    "from emtl import Task, MultiHeadedDatasetTask, Trainer\n",
    "from emtl.algorithms import SequentialTraining"
   ]
  },
  {
   "attachments": {},
   "cell_type": "markdown",
   "metadata": {},
   "source": [
    "#### Dataset & Head Class"
   ]
  },
  {
   "cell_type": "code",
   "execution_count": 3,
   "metadata": {},
   "outputs": [
    {
     "name": "stdout",
     "output_type": "stream",
     "text": [
      "Files already downloaded and verified\n",
      "Files already downloaded and verified\n"
     ]
    }
   ],
   "source": [
    "'''\n",
    "Type of target to use, attr, identity, bbox, or landmarks. Can also be a list to output a tuple with all specified target types. The targets represent:\n",
    "- attr (Tensor shape=(40,) dtype=int): binary (0, 1) labels for attributes\n",
    "- identity (int): label for each person (data points with the same identity are the same person)\n",
    "- bbox (Tensor shape=(4,) dtype=int): bounding box (x, y, width, height)\n",
    "- landmarks (Tensor shape=(10,) dtype=int): landmark points (lefteye_x, lefteye_y, righteye_x, righteye_y, nose_x, nose_y, leftmouth_x, leftmouth_y, rightmouth_x, rightmouth_y)\n",
    "'''\n",
    "trainset = D.CelebA(root='../data', split='train', target_type=['attr', 'bbox'], download=True,\n",
    "                   transform=T.ToTensor(), target_transform=lambda t : (t[0].float(), t[1].float()))\n",
    "testset = D.CelebA(root='../data', split='test', target_type=['attr', 'bbox'], download=True,\n",
    "                   transform=T.ToTensor(), target_transform=lambda t : (t[0].float(), t[1].float()))"
   ]
  },
  {
   "cell_type": "code",
   "execution_count": 4,
   "metadata": {},
   "outputs": [],
   "source": [
    "class Head(torch.nn.Module):\n",
    "    def __init__(self, out_neurons: int) -> None:\n",
    "        super().__init__()\n",
    "        self.model = torch.nn.Linear(2048, out_neurons)\n",
    "\n",
    "    def forward(self, x: torch.Tensor, **kwargs):\n",
    "        out = self.model(x)\n",
    "        return out"
   ]
  },
  {
   "attachments": {},
   "cell_type": "markdown",
   "metadata": {},
   "source": [
    "#### Metric Functions"
   ]
  },
  {
   "cell_type": "code",
   "execution_count": 5,
   "metadata": {},
   "outputs": [],
   "source": [
    "def relative_error(pred, true):\n",
    "    return abs(pred - true) / true\n",
    "\n",
    "def multilabel_binary_classification_accuracy(pred, true):\n",
    "    return (pred.round().bool() == true.bool()).float().mean()"
   ]
  },
  {
   "attachments": {},
   "cell_type": "markdown",
   "metadata": {},
   "source": [
    "#### Create Tasks (w/ Heads)"
   ]
  },
  {
   "cell_type": "code",
   "execution_count": 6,
   "metadata": {},
   "outputs": [],
   "source": [
    "# Task specs are formatted as: name, model, criterion, metrics\n",
    "celeba_features_task_spec = (\n",
    "    'Features',\n",
    "    Head(out_neurons=40),\n",
    "    torch.nn.BCEWithLogitsLoss(reduction='mean'),\n",
    "    {'Accuracy': lambda pred, true : multilabel_binary_classification_accuracy(pred, true).item()}\n",
    ")\n",
    "\n",
    "celeba_bbox_task_spec = (\n",
    "    'BBox',\n",
    "    Head(out_neurons=4),\n",
    "    torch.nn.MSELoss(reduction='mean'),\n",
    "    {'Relative Accuracy': lambda pred, true : (1 - relative_error(pred, true)).mean().item()}\n",
    ")\n",
    "\n",
    "celeba_multitask = MultiHeadedDatasetTask(\n",
    "    name = 'CelebA',\n",
    "    # trainset = torch.utils.data.Subset(testset, range(100)), \n",
    "    # testset = torch.utils.data.Subset(testset, range(100, 104)),\n",
    "    trainset = trainset, \n",
    "    testset = testset,\n",
    "    tasks_specs=[celeba_features_task_spec, celeba_bbox_task_spec],\n",
    "    optimizer_fn = torch.optim.Adam,\n",
    "    scheduler_fn = torch.optim.lr_scheduler.ReduceLROnPlateau,\n",
    "    config = '../configs/tasks/CelebA.ini',\n",
    "    dataloader_params = {'batch_size': 64}\n",
    ")"
   ]
  },
  {
   "attachments": {},
   "cell_type": "markdown",
   "metadata": {},
   "source": [
    "#### Create & Launch Trainer (w/ Backbone)"
   ]
  },
  {
   "cell_type": "code",
   "execution_count": 7,
   "metadata": {},
   "outputs": [
    {
     "name": "stderr",
     "output_type": "stream",
     "text": [
      "CelebA:   0%|          | 0/50 [00:00<?, ?it/s]"
     ]
    }
   ],
   "source": [
    "# make a ResNet50 backbone removing the last two layers (fc and avgpool)\n",
    "backbone = M.resnet50(replace_stride_with_dilation=[False, True, True])\n",
    "backbone = torch.nn.Sequential(*list(backbone.children())[:-2], torch.nn.AdaptiveAvgPool2d(1), torch.nn.Flatten())\n",
    "\n",
    "trainer = Trainer(\n",
    "    backbone = backbone,\n",
    "    tasks = [celeba_multitask],\n",
    "    algorithm = SequentialTraining(epochs=50),\n",
    "    config='../config.ini',\n",
    "    mlflow_database='sqlite:///../mlflow.db'\n",
    ")\n",
    "\n",
    "# train the model\n",
    "trainer.launch()"
   ]
  },
  {
   "cell_type": "code",
   "execution_count": null,
   "metadata": {},
   "outputs": [],
   "source": []
  }
 ],
 "metadata": {
  "kernelspec": {
   "display_name": "pytorch",
   "language": "python",
   "name": "python3"
  },
  "language_info": {
   "codemirror_mode": {
    "name": "ipython",
    "version": 3
   },
   "file_extension": ".py",
   "mimetype": "text/x-python",
   "name": "python",
   "nbconvert_exporter": "python",
   "pygments_lexer": "ipython3",
   "version": "3.9.16"
  },
  "orig_nbformat": 4,
  "vscode": {
   "interpreter": {
    "hash": "52372b67cea419ab21537734b4cd425ac02e0aecadbd8297b2ce6404efbcdf36"
   }
  }
 },
 "nbformat": 4,
 "nbformat_minor": 2
}
